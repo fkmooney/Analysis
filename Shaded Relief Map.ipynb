{
 "cells": [
  {
   "cell_type": "markdown",
   "id": "af85c2c7",
   "metadata": {},
   "source": [
    "Shaded Relieft Map instructions\n",
    "\n",
    "https://github.com/fkmooney/geophysique.be/blob/master/2014-02-25%20Shaded%20Relief%20Map%20in%20Python.ipynb\n",
    "\n"
   ]
  },
  {
   "cell_type": "code",
   "execution_count": null,
   "id": "028c653d",
   "metadata": {},
   "outputs": [],
   "source": [
    "import matplotlib.pyplot as plt\n",
    "import numpy as np\n",
    "\n",
    "import cartopy.crs as ccrs\n",
    "from cartopy.io.img_tiles import GoogleTiles\n",
    "from cartopy.io.srtm import srtm_composite\n",
    "\n",
    "from osgeo import gdal\n",
    "from osgeo import gdal_array"
   ]
  },
  {
   "cell_type": "markdown",
   "id": "b9e14b40",
   "metadata": {},
   "source": [
    "First Map"
   ]
  },
  {
   "cell_type": "code",
   "execution_count": null,
   "id": "12c0f614",
   "metadata": {},
   "outputs": [],
   "source": [
    "# Specify a region of interest, in this case, Sudelfeld Ski Resort (Germany)\n",
    "lat = 47 + 40 / 60.0 + 30 / 3600.\n",
    "lon = 12 + 3 / 60.0 + 2 / 3600.\n",
    "\n",
    "plt.figure(figsize=(10, 10))\n",
    "ax = plt.subplot(111, projection=ccrs.PlateCarree())\n",
    "ax.set_extent([12.0, 13.0, 47.0, 48.0])\n",
    "gg_tiles = GoogleTiles()\n",
    "ax.add_image(gg_tiles, 10)\n",
    "\n",
    "plt.scatter(lon, lat, marker=(5, 1), color='red', s=200)\n",
    "plt.title(\"Welcome to Sudelfeld\")\n",
    "gl = ax.gridlines(draw_labels=True,)\n",
    "gl.xlabels_top = False\n",
    "gl.ylabels_left = False"
   ]
  },
  {
   "cell_type": "code",
   "execution_count": null,
   "id": "b008da70",
   "metadata": {},
   "outputs": [],
   "source": []
  }
 ],
 "metadata": {
  "kernelspec": {
   "display_name": "Python 3 (ipykernel)",
   "language": "python",
   "name": "python3"
  }
 },
 "nbformat": 4,
 "nbformat_minor": 5
}
