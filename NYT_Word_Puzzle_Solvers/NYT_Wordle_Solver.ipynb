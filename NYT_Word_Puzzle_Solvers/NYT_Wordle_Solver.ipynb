{
 "cells": [
  {
   "cell_type": "code",
   "execution_count": 1,
   "id": "1fcffc34",
   "metadata": {},
   "outputs": [],
   "source": [
    "import pandas as pd\n",
    "pd.set_option('display.max_rows', None)"
   ]
  },
  {
   "cell_type": "code",
   "execution_count": 2,
   "id": "ecae2d9b",
   "metadata": {},
   "outputs": [],
   "source": [
    "df = pd.read_csv('words.txt', sep=' ', header=None, )\n",
    "\n",
    "df['char_Count'] = df[0].str.len()\n",
    "df = df[df['char_Count'].isin([5])]\n",
    "df = df[0].str.split('',expand=True)\n",
    "df = df.drop([0,6], axis=1)\n"
   ]
  },
  {
   "cell_type": "code",
   "execution_count": 3,
   "id": "88d83133",
   "metadata": {},
   "outputs": [
    {
     "name": "stderr",
     "output_type": "stream",
     "text": [
      "C:\\Users\\Kempton Mooney\\AppData\\Local\\Temp\\ipykernel_28932\\1788839893.py:18: FutureWarning: In a future version of pandas all arguments of DataFrame.any and Series.any will be keyword-only.\n",
      "  fdf = fdf[~fdf.isin(['P','E','R','T','Y','I','S','M','N','G','C']).any(1)] # fitler out words w gray letters\n"
     ]
    },
    {
     "data": {
      "text/html": [
       "<div>\n",
       "<style scoped>\n",
       "    .dataframe tbody tr th:only-of-type {\n",
       "        vertical-align: middle;\n",
       "    }\n",
       "\n",
       "    .dataframe tbody tr th {\n",
       "        vertical-align: top;\n",
       "    }\n",
       "\n",
       "    .dataframe thead th {\n",
       "        text-align: right;\n",
       "    }\n",
       "</style>\n",
       "<table border=\"1\" class=\"dataframe\">\n",
       "  <thead>\n",
       "    <tr style=\"text-align: right;\">\n",
       "      <th></th>\n",
       "      <th>1</th>\n",
       "      <th>2</th>\n",
       "      <th>3</th>\n",
       "      <th>4</th>\n",
       "      <th>5</th>\n",
       "    </tr>\n",
       "  </thead>\n",
       "  <tbody>\n",
       "    <tr>\n",
       "      <th>4666</th>\n",
       "      <td>B</td>\n",
       "      <td>A</td>\n",
       "      <td>B</td>\n",
       "      <td>O</td>\n",
       "      <td>O</td>\n",
       "    </tr>\n",
       "    <tr>\n",
       "      <th>5673</th>\n",
       "      <td>B</td>\n",
       "      <td>A</td>\n",
       "      <td>Z</td>\n",
       "      <td>O</td>\n",
       "      <td>O</td>\n",
       "    </tr>\n",
       "    <tr>\n",
       "      <th>32335</th>\n",
       "      <td>H</td>\n",
       "      <td>A</td>\n",
       "      <td>L</td>\n",
       "      <td>L</td>\n",
       "      <td>O</td>\n",
       "    </tr>\n",
       "    <tr>\n",
       "      <th>38187</th>\n",
       "      <td>K</td>\n",
       "      <td>A</td>\n",
       "      <td>Z</td>\n",
       "      <td>O</td>\n",
       "      <td>O</td>\n",
       "    </tr>\n",
       "    <tr>\n",
       "      <th>80364</th>\n",
       "      <td>W</td>\n",
       "      <td>A</td>\n",
       "      <td>H</td>\n",
       "      <td>O</td>\n",
       "      <td>O</td>\n",
       "    </tr>\n",
       "    <tr>\n",
       "      <th>80915</th>\n",
       "      <td>W</td>\n",
       "      <td>A</td>\n",
       "      <td>Z</td>\n",
       "      <td>O</td>\n",
       "      <td>O</td>\n",
       "    </tr>\n",
       "  </tbody>\n",
       "</table>\n",
       "</div>"
      ],
      "text/plain": [
       "       1  2  3  4  5\n",
       "4666   B  A  B  O  O\n",
       "5673   B  A  Z  O  O\n",
       "32335  H  A  L  L  O\n",
       "38187  K  A  Z  O  O\n",
       "80364  W  A  H  O  O\n",
       "80915  W  A  Z  O  O"
      ]
     },
     "execution_count": 3,
     "metadata": {},
     "output_type": "execute_result"
    }
   ],
   "source": [
    "### Enter the criteria learned from making guesses on site.\n",
    "### Yellow letters can be anywhere\n",
    "### Green letters have known locations\n",
    "### Gray letters are known not to be in set\n",
    "\n",
    "fdf = df[df.isin(['A']).any(axis=1)] # filter by yellow letters\n",
    "#fdf = fdf[fdf.isin(['B']).any(axis=1)] # filter by yellow letters\n",
    "#fdf = fdf[fdf.isin(['C']).any(axis=1)] # filter by yellow letters\n",
    "#fdf = fdf[fdf.isin(['R']).any(axis=1)] # filter by yellow letters\n",
    "#fdf = fdf[fdf.isin(['O']).any(axis=1)] # filter by yellow letters\n",
    "\n",
    "#fdf = fdf[fdf[1].isin(['C'])] # filter by green letters\n",
    "fdf = fdf[fdf[2].isin(['A'])] # filter by green letters\n",
    "#fdf = fdf[fdf[3].isin(['B'])] # filter by green letters\n",
    "#fdf = fdf[fdf[4].isin(['R'])] # filter by green letters\n",
    "fdf = fdf[fdf[5].isin(['O'])] # filter by green letters\n",
    "\n",
    "fdf = fdf[~fdf.isin(['P','E','R','T','Y','I','S','M','N','G','C']).any(1)] # filter out words w gray letters\n",
    "\n",
    "fdf"
   ]
  },
  {
   "cell_type": "code",
   "execution_count": null,
   "id": "c1cf4280",
   "metadata": {},
   "outputs": [],
   "source": []
  }
 ],
 "metadata": {
  "kernelspec": {
   "display_name": "Python 3 (ipykernel)",
   "language": "python",
   "name": "python3"
  },
  "language_info": {
   "codemirror_mode": {
    "name": "ipython",
    "version": 3
   },
   "file_extension": ".py",
   "mimetype": "text/x-python",
   "name": "python",
   "nbconvert_exporter": "python",
   "pygments_lexer": "ipython3",
   "version": "3.10.4"
  }
 },
 "nbformat": 4,
 "nbformat_minor": 5
}
